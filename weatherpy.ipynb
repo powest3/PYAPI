{
 "cells": [
  {
   "cell_type": "code",
   "execution_count": 1,
   "metadata": {},
   "outputs": [],
   "source": [
    "# 1) Get random coordinates and find the closest city from citypy \n",
    "# 2) Use the weather API to get the weather data; ensure no duplicates\n",
    "# 3) Store the weather data in lists \n",
    "# 4) Store the lists in a Data Frame and save in a CSV file\n",
    "# 5) Plot 4 scatter plots using the Data Frame and save the images"
   ]
  },
  {
   "cell_type": "code",
   "execution_count": 11,
   "metadata": {},
   "outputs": [
    {
     "name": "stdout",
     "output_type": "stream",
     "text": [
      "Collecting citipy\n",
      "\u001b[?25l  Downloading https://files.pythonhosted.org/packages/3b/d0/59721d0f3954781488aac17ee4a40412d0a3547e98bb16377a09c39a2807/citipy-0.0.5.tar.gz (557kB)\n",
      "\u001b[K     |████████████████████████████████| 563kB 1.7MB/s eta 0:00:01\n",
      "\u001b[?25hCollecting kdtree>=0.12 (from citipy)\n",
      "  Downloading https://files.pythonhosted.org/packages/00/3d/bd727d025b1706798aae14da3f69fc7d5a8639dc9e0eba37c7dcd43eb03e/kdtree-0.16-py2.py3-none-any.whl\n",
      "Building wheels for collected packages: citipy\n",
      "  Building wheel for citipy (setup.py) ... \u001b[?25ldone\n",
      "\u001b[?25h  Stored in directory: /Users/stephenpowell/Library/Caches/pip/wheels/6f/07/0d/0392639cf1c10376f59decd06775c0e085ca2458c6036c1028\n",
      "Successfully built citipy\n",
      "Installing collected packages: kdtree, citipy\n",
      "Successfully installed citipy-0.0.5 kdtree-0.16\n"
     ]
    }
   ],
   "source": [
    "!pip install citipy"
   ]
  },
  {
   "cell_type": "code",
   "execution_count": 12,
   "metadata": {},
   "outputs": [],
   "source": [
    "# Dependencies\n",
    "import citipy as citipy\n",
    "import pandas as pd\n",
    "from random import uniform\n",
    "import csv\n",
    "import matplotlib.pyplot as plt\n",
    "import requests as req\n",
    "import seaborn as sns\n",
    "sns.set(color_codes=True)\n",
    "from datetime import datetime"
   ]
  },
  {
   "cell_type": "code",
   "execution_count": 13,
   "metadata": {},
   "outputs": [
    {
     "ename": "SyntaxError",
     "evalue": "EOL while scanning string literal (<ipython-input-13-09618fc8bfd5>, line 7)",
     "output_type": "error",
     "traceback": [
      "\u001b[0;36m  File \u001b[0;32m\"<ipython-input-13-09618fc8bfd5>\"\u001b[0;36m, line \u001b[0;32m7\u001b[0m\n\u001b[0;31m    query_url = url + \"appid=\" + api_key + \"&units=\" + units + '&q=\u001b[0m\n\u001b[0m                                                                   ^\u001b[0m\n\u001b[0;31mSyntaxError\u001b[0m\u001b[0;31m:\u001b[0m EOL while scanning string literal\n"
     ]
    }
   ],
   "source": [
    "# Save config information.\n",
    "api_key = \"c1a253080c68be852f657f9e08b1bd39\"\n",
    "url = \"http://api.openweathermap.org/data/2.5/weather?\"\n",
    "units = \"imperial\"\n",
    "\n",
    "# Build partial query URL\n",
    "query_url = url + \"appid=\" + api_key + \"&units=\" + units + '&q="
   ]
  },
  {
   "cell_type": "code",
   "execution_count": 14,
   "metadata": {},
   "outputs": [],
   "source": [
    "#initialize variables and lists\n",
    "\n",
    "cities_needed = 500 \n",
    "cities_with_data = 0\n",
    "duplicates = []\n",
    "cities_without_data = []\n",
    "\n",
    "lat_data=[]\n",
    "temp_data=[]\n",
    "humidity_data=[]\n",
    "wind_data=[]\n",
    "city_name=[]\n",
    "city_id=[]\n",
    "cloud_data=[]\n",
    "country_code_data=[]"
   ]
  },
  {
   "cell_type": "code",
   "execution_count": 15,
   "metadata": {},
   "outputs": [
    {
     "ename": "AttributeError",
     "evalue": "module 'citipy' has no attribute 'nearest_city'",
     "output_type": "error",
     "traceback": [
      "\u001b[0;31m---------------------------------------------------------------------------\u001b[0m",
      "\u001b[0;31mAttributeError\u001b[0m                            Traceback (most recent call last)",
      "\u001b[0;32m<ipython-input-15-6a5556008ff8>\u001b[0m in \u001b[0;36m<module>\u001b[0;34m\u001b[0m\n\u001b[1;32m      8\u001b[0m \u001b[0;34m\u001b[0m\u001b[0m\n\u001b[1;32m      9\u001b[0m     \u001b[0;31m#get the city closest to the coordinate\u001b[0m\u001b[0;34m\u001b[0m\u001b[0;34m\u001b[0m\u001b[0;34m\u001b[0m\u001b[0m\n\u001b[0;32m---> 10\u001b[0;31m     \u001b[0mcity_p\u001b[0m\u001b[0;34m=\u001b[0m\u001b[0mcitipy\u001b[0m\u001b[0;34m.\u001b[0m\u001b[0mnearest_city\u001b[0m\u001b[0;34m(\u001b[0m\u001b[0mlat\u001b[0m\u001b[0;34m,\u001b[0m\u001b[0mlong\u001b[0m\u001b[0;34m)\u001b[0m\u001b[0;34m\u001b[0m\u001b[0;34m\u001b[0m\u001b[0m\n\u001b[0m\u001b[1;32m     11\u001b[0m \u001b[0;34m\u001b[0m\u001b[0m\n\u001b[1;32m     12\u001b[0m     \u001b[0;31m#store the nearest city in lower case\u001b[0m\u001b[0;34m\u001b[0m\u001b[0;34m\u001b[0m\u001b[0;34m\u001b[0m\u001b[0m\n",
      "\u001b[0;31mAttributeError\u001b[0m: module 'citipy' has no attribute 'nearest_city'"
     ]
    }
   ],
   "source": [
    "#1) Get cities for random coordinates from citypy \n",
    "while (cities_with_data < cities_needed):\n",
    "           \n",
    "       \n",
    "    #get random coordinates; restrict range to get land vs water\n",
    "    lat = uniform(-45,85)\n",
    "    long = uniform(-140, 150)\n",
    "    \n",
    "    #get the city closest to the coordinate\n",
    "    city_p=citipy.nearest_city(lat,long)    \n",
    "    \n",
    "    #store the nearest city in lower case\n",
    "    city = str.lower(city_p.city_name)\n",
    "    country = city_p.country_code\n",
    "      \n",
    "    \n",
    "    #2) ensure the city is not a duplicate of: a)existing list b) cities without weather data or c) duplicates\n",
    "    if (city not in city_name) and (city not in cities_without_data) and (city not in duplicates):\n",
    "                   \n",
    "        #2) get weather data for the city and print log\n",
    "        total_url = query_url + \"city=\" +  city + \",\" + country\n",
    "        print(\"city: \" + city + \", \" + country + \", URL: \" + total_url)\n",
    "        response = req.get(total_url).json()     \n",
    "                "
   ]
  },
  {
   "cell_type": "code",
   "execution_count": null,
   "metadata": {},
   "outputs": [],
   "source": [
    "    #3) read and store response data if it exists, and handle missing data\n",
    "        try:\n",
    "\n",
    "            # Extract required data from responses and add to data lists\n",
    "            retrieved_city = str.lower(response.get(\"name\"))\n",
    "            #print(\"got data for \" + retrieved_city)\n",
    "\n",
    "            #need to check again for duplicate city because sometimes city returned in response is not\n",
    "            # exactly the same as the city input into the URL\n",
    "            if (retrieved_city not in city_name) and (retrieved_city not in duplicates):\n",
    "\n",
    "                lat_data.append(response.get(\"coord\").get(\"lat\"))\n",
    "                temp_data.append(response.get(\"main\").get(\"temp\"))\n",
    "                humidity_data.append(response.get(\"main\").get(\"humidity\"))\n",
    "                wind_data.append(response.get(\"wind\").get(\"speed\"))\n",
    "                city_name.append(retrieved_city)\n",
    "                city_id.append(response.get(\"id\"))\n",
    "                cloud_data.append(response.get(\"clouds\").get(\"all\"))\n",
    "                country_code_data.append(response.get(\"sys\").get(\"country\"))\n",
    "                #date = response.get(\"dt\")\n",
    "                cities_with_data = cities_with_data + 1\n",
    "                \n",
    "            else:\n",
    "                print(\"Duplicate in response for: \" + retrieved_city)\n",
    "                duplicates.append(city)\n",
    "        except:\n",
    "            print(\"no data for %s\" % city)\n",
    "            cities_without_data.append(city)\n",
    "            continue\n",
    "   \n",
    "    else:\n",
    "        print(\"duplicate: \" + city)\n",
    "        duplicates.append(city)\n",
    "    #end if    \n",
    "   \n",
    "    \n",
    "#end while loop to get all the cities \n",
    "\n",
    "\n",
    "print(\"cities with data: %s\" % str(cities_with_data))\n",
    "print(\"cities without data: %s\" % len(cities_without_data))\n",
    "print(\"dupicates: %s\" % len(duplicates))\n"
   ]
  },
  {
   "cell_type": "code",
   "execution_count": null,
   "metadata": {},
   "outputs": [],
   "source": [
    "#4) store the results in a data frame and write to a CSV file\n",
    "\n",
    "all_data = {\"temp\": temp_data, \"lat\": lat_data, \"city\": city_name, \"id\": city_id, \"country_code\": country_code_data,\n",
    "            \"humidity\": humidity_data, \"windspeed\": wind_data, \"cloudiness\": cloud_data}\n",
    "\n",
    "final_data = pd.DataFrame(all_data)\n",
    "\n",
    "#reorder the columns\n",
    "final_data = final_data[[\"id\", \"city\", \"country_code\", \"lat\", \"temp\",\"humidity\", \"windspeed\", \"cloudiness\" ]]\n",
    "\n",
    "#write to a CSV file\n",
    "final_data.to_csv(\"final_data.csv\", index=False, header=True)\n",
    "final_data.head()"
   ]
  }
 ],
 "metadata": {
  "kernelspec": {
   "display_name": "Python 3",
   "language": "python",
   "name": "python3"
  },
  "language_info": {
   "codemirror_mode": {
    "name": "ipython",
    "version": 3
   },
   "file_extension": ".py",
   "mimetype": "text/x-python",
   "name": "python",
   "nbconvert_exporter": "python",
   "pygments_lexer": "ipython3",
   "version": "3.7.3"
  }
 },
 "nbformat": 4,
 "nbformat_minor": 2
}
